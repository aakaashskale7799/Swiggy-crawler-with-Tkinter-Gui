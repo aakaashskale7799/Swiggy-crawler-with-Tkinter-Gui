{
 "cells": [
  {
   "cell_type": "code",
   "execution_count": 12,
   "metadata": {},
   "outputs": [],
   "source": [
    "from selenium import  webdriver\n",
    "from selenium.webdriver.support.ui import WebDriverWait\n",
    "import time\n",
    "import webbrowser\n",
    "import re\n",
    "import csv\n",
    "from random import random\n",
    "import requests\n",
    "from bs4 import BeautifulSoup\n",
    "import pandas as pd\n",
    "from selenium.webdriver.support import expected_conditions as EC\n",
    "from selenium import webdriver\n",
    "from selenium.webdriver import ActionChains\n",
    "from selenium.webdriver.common.keys import Keys\n",
    "def new(link):\n",
    "    #link = 'https://www.swiggy.com/'\n",
    "    response = requests.get(link, headers={'User-Agent': 'Mozilla/5.0'})\n",
    "    html = response.content\n",
    "    soup = BeautifulSoup(html, 'html.parser')\n",
    "    #driver= webdriver.Chrome()\n",
    "    print(\"===================\")\n",
    "    #print(driver.current_url)\n",
    "    #driver.get(link)\n",
    "    #time.sleep(2)\n",
    "    \n",
    "    #print(driver.current_url)\n",
    "    name = soup.find(class_=\"_1_sSy\")\n",
    "    name_list=name.find_all(\"a\")\n",
    "    cities=[]\n",
    "    links=[]\n",
    "    #name of the cities and their links extracted here\n",
    "    for n in name_list:\n",
    "        city=n.contents[0]\n",
    "        #print(city)\n",
    "        link=\"https://www.swiggy.com\"+n.get(\"href\")\n",
    "        cities.append(city)\n",
    "        links.append(link)\n",
    "    list_of_tuples = list(zip(cities,links))\n",
    "    df=pd.DataFrame(list_of_tuples, columns=[\"Cities\",\"Links\"])\n",
    "    df.to_csv(\"city links.csv\")\n",
    "    print(\"done city\")\n"
   ]
  },
  {
   "cell_type": "code",
   "execution_count": 13,
   "metadata": {},
   "outputs": [],
   "source": [
    "def link(i):\n",
    "    page=requests.get(i,headers={'User-Agent': 'Mozilla/5.0'})\n",
    "    html = page.content\n",
    "    #first landing page hotel names of the city\n",
    "    soup=BeautifulSoup(html,\"html.parser\")\n",
    "    cat=soup.findAll(\"div\", {\"class\":\"nA6kb\"})\n",
    "    if not cat:\n",
    "        pass\n",
    "    else:\n",
    "        hotel_name=[]\n",
    "        print(\"=\"*60)\n",
    "        print(\"This hotel belongs to city\",i)\n",
    "        print(\"=\"*60)\n",
    "        for name in cat:\n",
    "            #hlink=cat.get\n",
    "            hotel=name.get_text()\n",
    "            hotel_name.append(hotel)\n",
    "        #First landing page hotel's links\n",
    "        name = soup.find(class_=\"_129-b\")\n",
    "        name_list=name.find_all(\"a\")\n",
    "        hlinks=[]\n",
    "        for n in name_list:\n",
    "            l=n.get(\"href\")\n",
    "            l=str(l)\n",
    "            sw=\"https://www.swiggy.com\"\n",
    "            hlink=sw+l\n",
    "            hlinks.append(hlink)\n",
    "            for d in hlinks:\n",
    "                if d==\"https://www.swiggy.comNone\":\n",
    "                    hlinks.remove(\"https://www.swiggy.comNone\")        \n",
    "        #let's start collecting data beyond 1st page\n",
    "        page_no=soup.find(class_=\"_2OmLw\")\n",
    "        new_page=page_no.find_all(\"a\")\n",
    "        page_nums=[]\n",
    "        page_links=[]\n",
    "        for x in new_page:\n",
    "            l=x.get(\"href\")\n",
    "            l=str(l)\n",
    "            sw=\"https://www.swiggy.com\"\n",
    "            hlink=sw+l\n",
    "            page_nums.append(hlink)\n",
    "            #print(page_nums)\n",
    "        leng=len(page_nums)+1\n",
    "        page_links=page_nums[1:leng]\n",
    "        #page_nums=pagelinks[1:leng]\n",
    "        for h in page_links:\n",
    "             page=requests.get(h,headers={'User-Agent': 'Mozilla/5.0'})\n",
    "             html = page.content\n",
    "             #next page hotel names\n",
    "             soup=BeautifulSoup(html,\"html.parser\")\n",
    "             cat=soup.findAll(\"div\", {\"class\":\"nA6kb\"})\n",
    "             for name in cat:\n",
    "                 #hlink=cat.get\n",
    "                 hotel=name.get_text()\n",
    "                 hotel_name.append(hotel)\n",
    "             #here links of the hotels of the next page\n",
    "             name = soup.find(class_=\"_129-b\")\n",
    "             name_list=name.find_all(\"a\")\n",
    "             for n in name_list:\n",
    "                 l=str(n.get(\"href\"))\n",
    "                 #l=str(l)\n",
    "                 sw=\"https://www.swiggy.com\"\n",
    "                 hlink=sw+l\n",
    "                 hlinks.append(hlink) \n",
    "             for d in hlinks:\n",
    "                 if d==\"https://www.swiggy.comNone\":\n",
    "                     hlinks.remove(\"https://www.swiggy.comNone\")\n",
    "        list_of_tuples = list(zip(hotel_name,hlinks))\n",
    "        df=pd.DataFrame(list_of_tuples, columns=[\"Hotel Name\",\"Links\"])\n",
    "        #print(\"\\n Printing df \\n\")\n",
    "        file=soup.find(\"span\",{\"class\":\"kpkwa\"})\n",
    "        file_name=file.get_text()\n",
    "        df.to_csv(file_name+\".csv\")\n",
    "        print(\"done res\")\n"
   ]
  },
  {
   "cell_type": "code",
   "execution_count": 14,
   "metadata": {},
   "outputs": [],
   "source": [
    "import tkinter as tk"
   ]
  },
  {
   "cell_type": "code",
   "execution_count": 15,
   "metadata": {},
   "outputs": [],
   "source": [
    "master = tk.Tk()\n",
    "def city_res():\n",
    "    p=e1.get()\n",
    "    link(p)\n",
    "def all_city():\n",
    "    q=e2.get()\n",
    "    new(q)"
   ]
  },
  {
   "cell_type": "code",
   "execution_count": 16,
   "metadata": {},
   "outputs": [],
   "source": [
    "tk.Label(master, \n",
    "         text=\"Enter city link to get all restraurant links \").grid(row=0)\n",
    "tk.Label(master, \n",
    "         text=\"Enter swiggy link to download all city links  \").grid(row=1)\n",
    "e1 = tk.Entry(master)\n",
    "e2 = tk.Entry(master)\n",
    "e1.grid(row=0, column=1)\n",
    "e2.grid(row=1, column=1)"
   ]
  },
  {
   "cell_type": "code",
   "execution_count": 17,
   "metadata": {},
   "outputs": [],
   "source": [
    "tk.Button(master, \n",
    "          text='Quit', \n",
    "          command=master.quit).grid(row=3, \n",
    "                                    column=0, \n",
    "                                    sticky=tk.W, \n",
    "                                    pady=10)"
   ]
  },
  {
   "cell_type": "code",
   "execution_count": 18,
   "metadata": {},
   "outputs": [],
   "source": [
    "tk.Button(master, \n",
    "          text='get restraurant link of particular city ', command=city_res).grid(row=0, \n",
    "                                                       column=2, \n",
    "                                                       sticky=tk.W, \n",
    "                                                       pady=4)"
   ]
  },
  {
   "cell_type": "code",
   "execution_count": 19,
   "metadata": {},
   "outputs": [],
   "source": [
    "tk.Button(master, \n",
    "          text='get all city of india', command=all_city).grid(row=1, \n",
    "                                                       column=2, \n",
    "                                                       sticky=tk.W, \n",
    "                                                       pady=4)"
   ]
  },
  {
   "cell_type": "code",
   "execution_count": null,
   "metadata": {},
   "outputs": [
    {
     "name": "stdout",
     "output_type": "stream",
     "text": [
      "===================\n",
      "done city\n",
      "===================\n",
      "done city\n"
     ]
    }
   ],
   "source": [
    "tk.mainloop()"
   ]
  },
  {
   "cell_type": "code",
   "execution_count": null,
   "metadata": {},
   "outputs": [],
   "source": []
  }
 ],
 "metadata": {
  "kernelspec": {
   "display_name": "Python 3",
   "language": "python",
   "name": "python3"
  },
  "language_info": {
   "codemirror_mode": {
    "name": "ipython",
    "version": 3
   },
   "file_extension": ".py",
   "mimetype": "text/x-python",
   "name": "python",
   "nbconvert_exporter": "python",
   "pygments_lexer": "ipython3",
   "version": "3.7.3"
  }
 },
 "nbformat": 4,
 "nbformat_minor": 2
}
